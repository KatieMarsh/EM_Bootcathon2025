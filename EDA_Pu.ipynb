{
 "cells": [
  {
   "cell_type": "markdown",
   "id": "8e560a9e",
   "metadata": {},
   "source": [
    "Get total value lost of critical materials (SG + CN)"
   ]
  },
  {
   "cell_type": "code",
   "execution_count": 1,
   "id": "d12b9207",
   "metadata": {},
   "outputs": [
    {
     "name": "stdout",
     "output_type": "stream",
     "text": [
      "             PLANT_NAME MATERIAL_NAME  UNRESRICTED_STOCK_MT  \\\n",
      "0       CHINA-WAREHOUSE      MAT-0008                 0.000   \n",
      "1       CHINA-WAREHOUSE      MAT-0013                68.800   \n",
      "2       CHINA-WAREHOUSE      MAT-0017              2014.625   \n",
      "3       CHINA-WAREHOUSE      MAT-0047               320.975   \n",
      "4       CHINA-WAREHOUSE      MAT-0082                 3.750   \n",
      "..                  ...           ...                   ...   \n",
      "70  SINGAPORE-WAREHOUSE      MAT-0393                23.375   \n",
      "71  SINGAPORE-WAREHOUSE      MAT-0412                 7.200   \n",
      "72  SINGAPORE-WAREHOUSE      MAT-0419               301.075   \n",
      "73  SINGAPORE-WAREHOUSE      MAT-0426              4794.000   \n",
      "74  SINGAPORE-WAREHOUSE      MAT-0428               264.950   \n",
      "\n",
      "    DOWNGRADE_VALUE_LOST  \n",
      "0           0.000000e+00  \n",
      "1           1.849001e+05  \n",
      "2           5.734898e+06  \n",
      "3           8.213830e+05  \n",
      "4           9.596383e+03  \n",
      "..                   ...  \n",
      "70          1.034356e+04  \n",
      "71          3.499200e+03  \n",
      "72          9.240621e+04  \n",
      "73          8.166579e+06  \n",
      "74          6.955480e+04  \n",
      "\n",
      "[75 rows x 4 columns]\n",
      "Total Downgrade Value Lost: 69957433.78697948\n",
      "            PLANT_NAME  DOWNGRADE_VALUE_LOST\n",
      "0      CHINA-WAREHOUSE          6.045930e+07\n",
      "1  SINGAPORE-WAREHOUSE          9.498132e+06\n"
     ]
    }
   ],
   "source": [
    "\n",
    "import pandas as pd;\n",
    "\n",
    "inventory_df = pd.read_csv(\"data/Inventory.csv\")\n",
    "china_df = pd.read_csv(\"MaterialMaster_with_clusters_CHINA.csv\")\n",
    "singapore_df = pd.read_csv(\"MaterialMaster_with_clusters_SINGAPORE.csv\")\n",
    "\n",
    "# Filter for Cluster = 0 (Critical Material)\n",
    "china_critical = china_df[china_df[\"Cluster\"] == 0]\n",
    "singapore_critical = singapore_df[singapore_df[\"Cluster\"] == 0]\n",
    "\n",
    "# Combine critical materials\n",
    "critical_materials = pd.concat([china_critical, singapore_critical])\n",
    "\n",
    "# Merge inventory_df with critical materials\n",
    "merged_df = inventory_df[inventory_df[\"BALANCE_AS_OF_DATE\"] == \"12/31/2024\"].merge(\n",
    "    critical_materials[[\"MATERIAL_NAME\", \"DOWNGRADE_VALUE_AVG_MT\"]],\n",
    "    on=\"MATERIAL_NAME\",\n",
    "    how=\"inner\"\n",
    ")\n",
    "\n",
    "# Convert unrestricted stock from KG to MT\n",
    "merged_df[\"UNRESRICTED_STOCK_MT\"] = merged_df[\"UNRESRICTED_STOCK\"] / 1000\n",
    "\n",
    "# Calculate downgrade value lost\n",
    "merged_df[\"DOWNGRADE_VALUE_LOST\"] = (\n",
    "    merged_df[\"UNRESRICTED_STOCK_MT\"] * merged_df[\"DOWNGRADE_VALUE_AVG_MT\"]\n",
    ")\n",
    "\n",
    "# Group by material and plant for detailed summary\n",
    "summary_df = merged_df.groupby([\"PLANT_NAME\", \"MATERIAL_NAME\"]).agg({\n",
    "    \"UNRESRICTED_STOCK_MT\": \"sum\",\n",
    "    \"DOWNGRADE_VALUE_LOST\": \"sum\"\n",
    "}).reset_index()\n",
    "\n",
    "# Calculate total downgrade value lost\n",
    "total_downgrade_value_lost = summary_df[\"DOWNGRADE_VALUE_LOST\"].sum()\n",
    "\n",
    "# Optionally: print or export results\n",
    "print(summary_df)\n",
    "print(f\"Total Downgrade Value Lost: {total_downgrade_value_lost}\")\n",
    "\n",
    "downgrade_by_plant = merged_df.groupby(\"PLANT_NAME\")[\"DOWNGRADE_VALUE_LOST\"].sum().reset_index()\n",
    "print(downgrade_by_plant)"
   ]
  }
 ],
 "metadata": {
  "kernelspec": {
   "display_name": ".venv",
   "language": "python",
   "name": "python3"
  },
  "language_info": {
   "codemirror_mode": {
    "name": "ipython",
    "version": 3
   },
   "file_extension": ".py",
   "mimetype": "text/x-python",
   "name": "python",
   "nbconvert_exporter": "python",
   "pygments_lexer": "ipython3",
   "version": "3.11.0"
  }
 },
 "nbformat": 4,
 "nbformat_minor": 5
}
