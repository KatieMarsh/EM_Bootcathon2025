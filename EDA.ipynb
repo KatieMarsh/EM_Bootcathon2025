{
 "cells": [
  {
   "cell_type": "markdown",
   "metadata": {},
   "source": [
    "# Lab 0.1: Data Exploration"
   ]
  },
  {
   "cell_type": "markdown",
   "metadata": {},
   "source": [
    "## Step 1: Raw Data Loading & Cleaning"
   ]
  },
  {
   "cell_type": "code",
   "execution_count": 40,
   "metadata": {},
   "outputs": [],
   "source": [
    "# Import Library\n",
    "import pandas as pd\n",
    "import matplotlib.pyplot as plt\n",
    "import numpy as np\n",
    "from datetime import datetime as dt\n",
    "\n",
    "# Import Data\n",
    "inbound_df = pd.read_csv(\"./data/Inbound.csv\")\n",
    "inventory_df = pd.read_csv(\"./data/Inventory.csv\")\n",
    "material_master_df = pd.read_csv(\"./data/MaterialMaster.csv\")\n",
    "operation_cost_df = pd.read_csv(\"./data/OperationCost.csv\")\n",
    "outbound_df = pd.read_csv(\"./data/Outbound.csv\")\n",
    "\n",
    "inbound_df.rename(columns={'INBOUND_DATE': 'DATE'}, inplace=True)\n",
    "outbound_df.rename(columns={'OUTBOUND_DATE': 'DATE'}, inplace=True)\n",
    "inventory_df['DATE'] = pd.to_datetime(inventory_df['BALANCE_AS_OF_DATE'], format='%m/%d/%Y')\n",
    "# inventory_df.rename(columns={'BALANCE_AS_OF_DATE': 'DATE'}, inplace=True)\n"
   ]
  },
  {
   "cell_type": "markdown",
   "metadata": {},
   "source": [
    "#### Data Cleaning"
   ]
  },
  {
   "cell_type": "code",
   "execution_count": 41,
   "metadata": {},
   "outputs": [
    {
     "name": "stdout",
     "output_type": "stream",
     "text": [
      "Inbound :\n",
      " DATE               0\n",
      "PLANT_NAME         0\n",
      "MATERIAL_NAME      0\n",
      "NET_QUANTITY_MT    0\n",
      "dtype: int64\n",
      "\n",
      "Inventory :\n",
      " BALANCE_AS_OF_DATE    0\n",
      "PLANT_NAME            0\n",
      "MATERIAL_NAME         0\n",
      "BATCH_NUMBER          1\n",
      "UNRESRICTED_STOCK     0\n",
      "STOCK_UNIT            0\n",
      "STOCK_SELL_VALUE      0\n",
      "CURRENCY              0\n",
      "DATE                  0\n",
      "dtype: int64\n",
      "\n",
      "Materials :\n",
      " MATERIAL_NAME                   0\n",
      "POLYMER_TYPE                    0\n",
      "SHELF_LIFE_IN_MONTH             0\n",
      "DOWNGRADE_VALUE_LOST_PERCENT    0\n",
      "dtype: int64\n",
      "\n",
      "Operation Costs :\n",
      " Operation                  0\n",
      "Plant/Mode of Transport    0\n",
      "Cost                       0\n",
      "Currency                   0\n",
      "dtype: int64\n",
      "\n",
      "Outbound :\n",
      " DATE                 0\n",
      "PLANT_NAME           0\n",
      "MODE_OF_TRANSPORT    0\n",
      "MATERIAL_NAME        4\n",
      "CUSTOMER_NUMBER      0\n",
      "NET_QUANTITY_MT      0\n",
      "dtype: int64\n"
     ]
    }
   ],
   "source": [
    "# Deleting null values\n",
    "print(\"Inbound :\\n\", inbound_df.isnull().sum())\n",
    "print(\"\\nInventory :\\n\", inventory_df.isnull().sum())\n",
    "print(\"\\nMaterials :\\n\", material_master_df.isnull().sum())\n",
    "print(\"\\nOperation Costs :\\n\", operation_cost_df.isnull().sum())\n",
    "print(\"\\nOutbound :\\n\", outbound_df.isnull().sum())\n",
    "inventory_df = inventory_df.dropna()\n",
    "outbound_df = outbound_df.dropna()"
   ]
  },
  {
   "cell_type": "code",
   "execution_count": 42,
   "metadata": {},
   "outputs": [
    {
     "name": "stdout",
     "output_type": "stream",
     "text": [
      "Inbound :\n",
      " 13143\n",
      "\n",
      "Inventory :\n",
      " 723\n",
      "\n",
      "Materials :\n",
      " 0\n",
      "\n",
      "Operation Costs :\n",
      " 0\n",
      "\n",
      "Outbound :\n",
      " 4811\n"
     ]
    }
   ],
   "source": [
    "# Deleting duplicates\n",
    "print(\"Inbound :\\n\", inbound_df.duplicated().sum())\n",
    "print(\"\\nInventory :\\n\", inventory_df.duplicated().sum())\n",
    "print(\"\\nMaterials :\\n\", material_master_df.duplicated().sum())\n",
    "print(\"\\nOperation Costs :\\n\", operation_cost_df.duplicated().sum())\n",
    "print(\"\\nOutbound :\\n\", outbound_df.duplicated().sum())\n",
    "inbound_df = inbound_df.drop_duplicates()\n",
    "inventory_df = inventory_df.drop_duplicates()\n",
    "outbound_df = outbound_df.drop_duplicates()"
   ]
  },
  {
   "cell_type": "code",
   "execution_count": 43,
   "metadata": {},
   "outputs": [
    {
     "name": "stdout",
     "output_type": "stream",
     "text": [
      "Inventory stock:\n",
      " 1677\n",
      "\n",
      "Inventory sell value:\n",
      " 407\n",
      "\n",
      "Inbound quantity:\n",
      " 0\n",
      "\n",
      "Outbound quantity:\n",
      " 1\n",
      "\n",
      "Inventory 1 zero:\n",
      " 1886\n",
      "\n",
      "Inventory 2 zeroes:\n",
      " 99\n"
     ]
    }
   ],
   "source": [
    "# Looking at zeroes\n",
    "print(\"Inventory stock:\\n\", (inventory_df['UNRESRICTED_STOCK'] == 0).sum())\n",
    "print(\"\\nInventory sell value:\\n\", (inventory_df['STOCK_SELL_VALUE'] == 0).sum())\n",
    "print(\"\\nInbound quantity:\\n\", (inbound_df['NET_QUANTITY_MT'] == 0).sum())\n",
    "print(\"\\nOutbound quantity:\\n\", (outbound_df['NET_QUANTITY_MT'] == 0).sum())\n",
    "inventory_df_sus = inventory_df[((inventory_df['UNRESRICTED_STOCK'] == 0) & (inventory_df['STOCK_SELL_VALUE'] != 0)) | ((inventory_df['UNRESRICTED_STOCK'] != 0) & (inventory_df['STOCK_SELL_VALUE'] == 0))]\n",
    "print(\"\\nInventory 1 zero:\\n\", len(inventory_df_sus))\n",
    "inventory_df_skibidi = inventory_df[(inventory_df['UNRESRICTED_STOCK'] == 0) & (inventory_df['STOCK_SELL_VALUE'] == 0)]\n",
    "print(\"\\nInventory 2 zeroes:\\n\", len(inventory_df_skibidi))"
   ]
  },
  {
   "cell_type": "code",
   "execution_count": 46,
   "metadata": {},
   "outputs": [
    {
     "data": {
      "text/html": [
       "<div>\n",
       "<style scoped>\n",
       "    .dataframe tbody tr th:only-of-type {\n",
       "        vertical-align: middle;\n",
       "    }\n",
       "\n",
       "    .dataframe tbody tr th {\n",
       "        vertical-align: top;\n",
       "    }\n",
       "\n",
       "    .dataframe thead th {\n",
       "        text-align: right;\n",
       "    }\n",
       "</style>\n",
       "<table border=\"1\" class=\"dataframe\">\n",
       "  <thead>\n",
       "    <tr style=\"text-align: right;\">\n",
       "      <th></th>\n",
       "      <th>BALANCE_AS_OF_DATE</th>\n",
       "      <th>PLANT_NAME</th>\n",
       "      <th>MATERIAL_NAME</th>\n",
       "      <th>BATCH_NUMBER</th>\n",
       "      <th>UNRESRICTED_STOCK</th>\n",
       "      <th>STOCK_UNIT</th>\n",
       "      <th>STOCK_SELL_VALUE</th>\n",
       "      <th>CURRENCY</th>\n",
       "      <th>DATE</th>\n",
       "    </tr>\n",
       "  </thead>\n",
       "  <tbody>\n",
       "    <tr>\n",
       "      <th>151</th>\n",
       "      <td>12/31/2023</td>\n",
       "      <td>CHINA-WAREHOUSE</td>\n",
       "      <td>MAT-0095</td>\n",
       "      <td>SCRAP</td>\n",
       "      <td>1631</td>\n",
       "      <td>KG</td>\n",
       "      <td>2251</td>\n",
       "      <td>CNY</td>\n",
       "      <td>2023-12-31</td>\n",
       "    </tr>\n",
       "    <tr>\n",
       "      <th>152</th>\n",
       "      <td>12/31/2023</td>\n",
       "      <td>CHINA-WAREHOUSE</td>\n",
       "      <td>MAT-0095</td>\n",
       "      <td>SCRAP</td>\n",
       "      <td>25</td>\n",
       "      <td>KG</td>\n",
       "      <td>35</td>\n",
       "      <td>CNY</td>\n",
       "      <td>2023-12-31</td>\n",
       "    </tr>\n",
       "  </tbody>\n",
       "</table>\n",
       "</div>"
      ],
      "text/plain": [
       "    BALANCE_AS_OF_DATE       PLANT_NAME MATERIAL_NAME BATCH_NUMBER  \\\n",
       "151         12/31/2023  CHINA-WAREHOUSE      MAT-0095        SCRAP   \n",
       "152         12/31/2023  CHINA-WAREHOUSE      MAT-0095        SCRAP   \n",
       "\n",
       "     UNRESRICTED_STOCK STOCK_UNIT  STOCK_SELL_VALUE CURRENCY       DATE  \n",
       "151               1631         KG              2251      CNY 2023-12-31  \n",
       "152                 25         KG                35      CNY 2023-12-31  "
      ]
     },
     "execution_count": 46,
     "metadata": {},
     "output_type": "execute_result"
    }
   ],
   "source": [
    "# Check primary key\n",
    "inventory_pk = inventory_df[['BALANCE_AS_OF_DATE','PLANT_NAME', 'MATERIAL_NAME', 'BATCH_NUMBER']]\n",
    "inventory_pk[inventory_pk.duplicated(keep=False)]\n",
    "inventory_df.iloc[[151, 152]]"
   ]
  },
  {
   "cell_type": "markdown",
   "metadata": {},
   "source": [
    "#### CSV Previews"
   ]
  },
  {
   "cell_type": "code",
   "execution_count": 45,
   "metadata": {},
   "outputs": [
    {
     "data": {
      "text/html": [
       "<div>\n",
       "<style scoped>\n",
       "    .dataframe tbody tr th:only-of-type {\n",
       "        vertical-align: middle;\n",
       "    }\n",
       "\n",
       "    .dataframe tbody tr th {\n",
       "        vertical-align: top;\n",
       "    }\n",
       "\n",
       "    .dataframe thead th {\n",
       "        text-align: right;\n",
       "    }\n",
       "</style>\n",
       "<table border=\"1\" class=\"dataframe\">\n",
       "  <thead>\n",
       "    <tr style=\"text-align: right;\">\n",
       "      <th></th>\n",
       "      <th>DATE</th>\n",
       "      <th>PLANT_NAME</th>\n",
       "      <th>MATERIAL_NAME</th>\n",
       "      <th>NET_QUANTITY_MT</th>\n",
       "    </tr>\n",
       "  </thead>\n",
       "  <tbody>\n",
       "    <tr>\n",
       "      <th>0</th>\n",
       "      <td>2023/12/15</td>\n",
       "      <td>SINGAPORE-WAREHOUSE</td>\n",
       "      <td>MAT-0354</td>\n",
       "      <td>23.375</td>\n",
       "    </tr>\n",
       "    <tr>\n",
       "      <th>1</th>\n",
       "      <td>2023/12/22</td>\n",
       "      <td>SINGAPORE-WAREHOUSE</td>\n",
       "      <td>MAT-0413</td>\n",
       "      <td>1.375</td>\n",
       "    </tr>\n",
       "    <tr>\n",
       "      <th>2</th>\n",
       "      <td>2023/12/22</td>\n",
       "      <td>SINGAPORE-WAREHOUSE</td>\n",
       "      <td>MAT-0413</td>\n",
       "      <td>23.375</td>\n",
       "    </tr>\n",
       "    <tr>\n",
       "      <th>3</th>\n",
       "      <td>2023/12/22</td>\n",
       "      <td>SINGAPORE-WAREHOUSE</td>\n",
       "      <td>MAT-0413</td>\n",
       "      <td>24.750</td>\n",
       "    </tr>\n",
       "    <tr>\n",
       "      <th>4</th>\n",
       "      <td>2023/12/22</td>\n",
       "      <td>SINGAPORE-WAREHOUSE</td>\n",
       "      <td>MAT-0413</td>\n",
       "      <td>19.250</td>\n",
       "    </tr>\n",
       "  </tbody>\n",
       "</table>\n",
       "</div>"
      ],
      "text/plain": [
       "         DATE           PLANT_NAME MATERIAL_NAME  NET_QUANTITY_MT\n",
       "0  2023/12/15  SINGAPORE-WAREHOUSE      MAT-0354           23.375\n",
       "1  2023/12/22  SINGAPORE-WAREHOUSE      MAT-0413            1.375\n",
       "2  2023/12/22  SINGAPORE-WAREHOUSE      MAT-0413           23.375\n",
       "3  2023/12/22  SINGAPORE-WAREHOUSE      MAT-0413           24.750\n",
       "4  2023/12/22  SINGAPORE-WAREHOUSE      MAT-0413           19.250"
      ]
     },
     "execution_count": 45,
     "metadata": {},
     "output_type": "execute_result"
    }
   ],
   "source": [
    "# Show Inbound Data\n",
    "inbound_df.head()"
   ]
  },
  {
   "cell_type": "code",
   "execution_count": 6,
   "metadata": {},
   "outputs": [
    {
     "data": {
      "text/html": [
       "<div>\n",
       "<style scoped>\n",
       "    .dataframe tbody tr th:only-of-type {\n",
       "        vertical-align: middle;\n",
       "    }\n",
       "\n",
       "    .dataframe tbody tr th {\n",
       "        vertical-align: top;\n",
       "    }\n",
       "\n",
       "    .dataframe thead th {\n",
       "        text-align: right;\n",
       "    }\n",
       "</style>\n",
       "<table border=\"1\" class=\"dataframe\">\n",
       "  <thead>\n",
       "    <tr style=\"text-align: right;\">\n",
       "      <th></th>\n",
       "      <th>BALANCE_AS_OF_DATE</th>\n",
       "      <th>PLANT_NAME</th>\n",
       "      <th>MATERIAL_NAME</th>\n",
       "      <th>BATCH_NUMBER</th>\n",
       "      <th>UNRESRICTED_STOCK</th>\n",
       "      <th>STOCK_UNIT</th>\n",
       "      <th>STOCK_SELL_VALUE</th>\n",
       "      <th>CURRENCY</th>\n",
       "      <th>DATE</th>\n",
       "    </tr>\n",
       "  </thead>\n",
       "  <tbody>\n",
       "    <tr>\n",
       "      <th>0</th>\n",
       "      <td>12/31/2023</td>\n",
       "      <td>CHINA-WAREHOUSE</td>\n",
       "      <td>MAT-0045</td>\n",
       "      <td>SCRAP</td>\n",
       "      <td>164</td>\n",
       "      <td>KG</td>\n",
       "      <td>211</td>\n",
       "      <td>CNY</td>\n",
       "      <td>2023-12-31</td>\n",
       "    </tr>\n",
       "    <tr>\n",
       "      <th>1</th>\n",
       "      <td>12/31/2023</td>\n",
       "      <td>CHINA-WAREHOUSE</td>\n",
       "      <td>MAT-0193</td>\n",
       "      <td>6024</td>\n",
       "      <td>0</td>\n",
       "      <td>KG</td>\n",
       "      <td>87666</td>\n",
       "      <td>CNY</td>\n",
       "      <td>2023-12-31</td>\n",
       "    </tr>\n",
       "    <tr>\n",
       "      <th>2</th>\n",
       "      <td>12/31/2023</td>\n",
       "      <td>CHINA-WAREHOUSE</td>\n",
       "      <td>MAT-0193</td>\n",
       "      <td>5755</td>\n",
       "      <td>70720</td>\n",
       "      <td>KG</td>\n",
       "      <td>414419</td>\n",
       "      <td>CNY</td>\n",
       "      <td>2023-12-31</td>\n",
       "    </tr>\n",
       "    <tr>\n",
       "      <th>3</th>\n",
       "      <td>12/31/2023</td>\n",
       "      <td>CHINA-WAREHOUSE</td>\n",
       "      <td>MAT-0193</td>\n",
       "      <td>3142</td>\n",
       "      <td>12240</td>\n",
       "      <td>KG</td>\n",
       "      <td>71726</td>\n",
       "      <td>CNY</td>\n",
       "      <td>2023-12-31</td>\n",
       "    </tr>\n",
       "    <tr>\n",
       "      <th>4</th>\n",
       "      <td>12/31/2023</td>\n",
       "      <td>CHINA-WAREHOUSE</td>\n",
       "      <td>MAT-0193</td>\n",
       "      <td>6734</td>\n",
       "      <td>2720</td>\n",
       "      <td>KG</td>\n",
       "      <td>15939</td>\n",
       "      <td>CNY</td>\n",
       "      <td>2023-12-31</td>\n",
       "    </tr>\n",
       "  </tbody>\n",
       "</table>\n",
       "</div>"
      ],
      "text/plain": [
       "  BALANCE_AS_OF_DATE       PLANT_NAME MATERIAL_NAME BATCH_NUMBER  \\\n",
       "0         12/31/2023  CHINA-WAREHOUSE      MAT-0045        SCRAP   \n",
       "1         12/31/2023  CHINA-WAREHOUSE      MAT-0193         6024   \n",
       "2         12/31/2023  CHINA-WAREHOUSE      MAT-0193         5755   \n",
       "3         12/31/2023  CHINA-WAREHOUSE      MAT-0193         3142   \n",
       "4         12/31/2023  CHINA-WAREHOUSE      MAT-0193         6734   \n",
       "\n",
       "   UNRESRICTED_STOCK STOCK_UNIT  STOCK_SELL_VALUE CURRENCY       DATE  \n",
       "0                164         KG               211      CNY 2023-12-31  \n",
       "1                  0         KG             87666      CNY 2023-12-31  \n",
       "2              70720         KG            414419      CNY 2023-12-31  \n",
       "3              12240         KG             71726      CNY 2023-12-31  \n",
       "4               2720         KG             15939      CNY 2023-12-31  "
      ]
     },
     "execution_count": 6,
     "metadata": {},
     "output_type": "execute_result"
    }
   ],
   "source": [
    "# Show Inventory Data\n",
    "inventory_df.head()"
   ]
  },
  {
   "cell_type": "code",
   "execution_count": 7,
   "metadata": {},
   "outputs": [
    {
     "data": {
      "text/html": [
       "<div>\n",
       "<style scoped>\n",
       "    .dataframe tbody tr th:only-of-type {\n",
       "        vertical-align: middle;\n",
       "    }\n",
       "\n",
       "    .dataframe tbody tr th {\n",
       "        vertical-align: top;\n",
       "    }\n",
       "\n",
       "    .dataframe thead th {\n",
       "        text-align: right;\n",
       "    }\n",
       "</style>\n",
       "<table border=\"1\" class=\"dataframe\">\n",
       "  <thead>\n",
       "    <tr style=\"text-align: right;\">\n",
       "      <th></th>\n",
       "      <th>MATERIAL_NAME</th>\n",
       "      <th>POLYMER_TYPE</th>\n",
       "      <th>SHELF_LIFE_IN_MONTH</th>\n",
       "      <th>DOWNGRADE_VALUE_LOST_PERCENT</th>\n",
       "    </tr>\n",
       "  </thead>\n",
       "  <tbody>\n",
       "    <tr>\n",
       "      <th>0</th>\n",
       "      <td>MAT-0001</td>\n",
       "      <td>P-002</td>\n",
       "      <td>3</td>\n",
       "      <td>40</td>\n",
       "    </tr>\n",
       "    <tr>\n",
       "      <th>1</th>\n",
       "      <td>MAT-0002</td>\n",
       "      <td>P-001</td>\n",
       "      <td>8</td>\n",
       "      <td>15</td>\n",
       "    </tr>\n",
       "    <tr>\n",
       "      <th>2</th>\n",
       "      <td>MAT-0003</td>\n",
       "      <td>P-004</td>\n",
       "      <td>2</td>\n",
       "      <td>35</td>\n",
       "    </tr>\n",
       "    <tr>\n",
       "      <th>3</th>\n",
       "      <td>MAT-0004</td>\n",
       "      <td>P-002</td>\n",
       "      <td>3</td>\n",
       "      <td>35</td>\n",
       "    </tr>\n",
       "    <tr>\n",
       "      <th>4</th>\n",
       "      <td>MAT-0005</td>\n",
       "      <td>P-002</td>\n",
       "      <td>5</td>\n",
       "      <td>20</td>\n",
       "    </tr>\n",
       "  </tbody>\n",
       "</table>\n",
       "</div>"
      ],
      "text/plain": [
       "  MATERIAL_NAME POLYMER_TYPE  SHELF_LIFE_IN_MONTH  \\\n",
       "0      MAT-0001        P-002                    3   \n",
       "1      MAT-0002        P-001                    8   \n",
       "2      MAT-0003        P-004                    2   \n",
       "3      MAT-0004        P-002                    3   \n",
       "4      MAT-0005        P-002                    5   \n",
       "\n",
       "   DOWNGRADE_VALUE_LOST_PERCENT  \n",
       "0                            40  \n",
       "1                            15  \n",
       "2                            35  \n",
       "3                            35  \n",
       "4                            20  "
      ]
     },
     "execution_count": 7,
     "metadata": {},
     "output_type": "execute_result"
    }
   ],
   "source": [
    "# Show Material Master Data\n",
    "material_master_df.head()\n"
   ]
  },
  {
   "cell_type": "code",
   "execution_count": 8,
   "metadata": {},
   "outputs": [
    {
     "data": {
      "text/html": [
       "<div>\n",
       "<style scoped>\n",
       "    .dataframe tbody tr th:only-of-type {\n",
       "        vertical-align: middle;\n",
       "    }\n",
       "\n",
       "    .dataframe tbody tr th {\n",
       "        vertical-align: top;\n",
       "    }\n",
       "\n",
       "    .dataframe thead th {\n",
       "        text-align: right;\n",
       "    }\n",
       "</style>\n",
       "<table border=\"1\" class=\"dataframe\">\n",
       "  <thead>\n",
       "    <tr style=\"text-align: right;\">\n",
       "      <th></th>\n",
       "      <th>Operation</th>\n",
       "      <th>Plant/Mode of Transport</th>\n",
       "      <th>Cost</th>\n",
       "      <th>Currency</th>\n",
       "    </tr>\n",
       "  </thead>\n",
       "  <tbody>\n",
       "    <tr>\n",
       "      <th>0</th>\n",
       "      <td>Inventory Storage per MT per day</td>\n",
       "      <td>SINGAPORE WAREHOUSE</td>\n",
       "      <td>15.0</td>\n",
       "      <td>SGD</td>\n",
       "    </tr>\n",
       "    <tr>\n",
       "      <th>1</th>\n",
       "      <td>Inventory Storage per MT per day</td>\n",
       "      <td>CHINA WAREHOUSE</td>\n",
       "      <td>1.7</td>\n",
       "      <td>CNY</td>\n",
       "    </tr>\n",
       "    <tr>\n",
       "      <th>2</th>\n",
       "      <td>Transfer cost per container (24.75MT)</td>\n",
       "      <td>Truck</td>\n",
       "      <td>150.0</td>\n",
       "      <td>SGD</td>\n",
       "    </tr>\n",
       "    <tr>\n",
       "      <th>3</th>\n",
       "      <td>Transfer cost per container (24.75MT)</td>\n",
       "      <td>Marine</td>\n",
       "      <td>75.0</td>\n",
       "      <td>USD</td>\n",
       "    </tr>\n",
       "  </tbody>\n",
       "</table>\n",
       "</div>"
      ],
      "text/plain": [
       "                               Operation Plant/Mode of Transport   Cost  \\\n",
       "0       Inventory Storage per MT per day     SINGAPORE WAREHOUSE   15.0   \n",
       "1       Inventory Storage per MT per day         CHINA WAREHOUSE    1.7   \n",
       "2  Transfer cost per container (24.75MT)                   Truck  150.0   \n",
       "3  Transfer cost per container (24.75MT)                  Marine   75.0   \n",
       "\n",
       "  Currency  \n",
       "0      SGD  \n",
       "1      CNY  \n",
       "2      SGD  \n",
       "3      USD  "
      ]
     },
     "execution_count": 8,
     "metadata": {},
     "output_type": "execute_result"
    }
   ],
   "source": [
    "# Show Operation Cost Data\n",
    "operation_cost_df.head()"
   ]
  },
  {
   "cell_type": "code",
   "execution_count": 9,
   "metadata": {},
   "outputs": [
    {
     "data": {
      "text/html": [
       "<div>\n",
       "<style scoped>\n",
       "    .dataframe tbody tr th:only-of-type {\n",
       "        vertical-align: middle;\n",
       "    }\n",
       "\n",
       "    .dataframe tbody tr th {\n",
       "        vertical-align: top;\n",
       "    }\n",
       "\n",
       "    .dataframe thead th {\n",
       "        text-align: right;\n",
       "    }\n",
       "</style>\n",
       "<table border=\"1\" class=\"dataframe\">\n",
       "  <thead>\n",
       "    <tr style=\"text-align: right;\">\n",
       "      <th></th>\n",
       "      <th>DATE</th>\n",
       "      <th>PLANT_NAME</th>\n",
       "      <th>MODE_OF_TRANSPORT</th>\n",
       "      <th>MATERIAL_NAME</th>\n",
       "      <th>CUSTOMER_NUMBER</th>\n",
       "      <th>NET_QUANTITY_MT</th>\n",
       "    </tr>\n",
       "  </thead>\n",
       "  <tbody>\n",
       "    <tr>\n",
       "      <th>0</th>\n",
       "      <td>2024/01/02</td>\n",
       "      <td>CHINA-WAREHOUSE</td>\n",
       "      <td>Truck</td>\n",
       "      <td>MAT-0013</td>\n",
       "      <td>CST-00001</td>\n",
       "      <td>25.50</td>\n",
       "    </tr>\n",
       "    <tr>\n",
       "      <th>2</th>\n",
       "      <td>2024/01/02</td>\n",
       "      <td>CHINA-WAREHOUSE</td>\n",
       "      <td>Truck</td>\n",
       "      <td>MAT-0268</td>\n",
       "      <td>CST-00002</td>\n",
       "      <td>25.50</td>\n",
       "    </tr>\n",
       "    <tr>\n",
       "      <th>6</th>\n",
       "      <td>2024/01/02</td>\n",
       "      <td>CHINA-WAREHOUSE</td>\n",
       "      <td>Truck</td>\n",
       "      <td>MAT-0145</td>\n",
       "      <td>CST-00003</td>\n",
       "      <td>25.50</td>\n",
       "    </tr>\n",
       "    <tr>\n",
       "      <th>7</th>\n",
       "      <td>2024/01/02</td>\n",
       "      <td>CHINA-WAREHOUSE</td>\n",
       "      <td>Truck</td>\n",
       "      <td>MAT-0428</td>\n",
       "      <td>CST-00004</td>\n",
       "      <td>24.75</td>\n",
       "    </tr>\n",
       "    <tr>\n",
       "      <th>8</th>\n",
       "      <td>2024/01/02</td>\n",
       "      <td>CHINA-WAREHOUSE</td>\n",
       "      <td>Truck</td>\n",
       "      <td>MAT-0264</td>\n",
       "      <td>CST-00005</td>\n",
       "      <td>24.75</td>\n",
       "    </tr>\n",
       "  </tbody>\n",
       "</table>\n",
       "</div>"
      ],
      "text/plain": [
       "         DATE       PLANT_NAME MODE_OF_TRANSPORT MATERIAL_NAME  \\\n",
       "0  2024/01/02  CHINA-WAREHOUSE             Truck      MAT-0013   \n",
       "2  2024/01/02  CHINA-WAREHOUSE             Truck      MAT-0268   \n",
       "6  2024/01/02  CHINA-WAREHOUSE             Truck      MAT-0145   \n",
       "7  2024/01/02  CHINA-WAREHOUSE             Truck      MAT-0428   \n",
       "8  2024/01/02  CHINA-WAREHOUSE             Truck      MAT-0264   \n",
       "\n",
       "  CUSTOMER_NUMBER  NET_QUANTITY_MT  \n",
       "0       CST-00001            25.50  \n",
       "2       CST-00002            25.50  \n",
       "6       CST-00003            25.50  \n",
       "7       CST-00004            24.75  \n",
       "8       CST-00005            24.75  "
      ]
     },
     "execution_count": 9,
     "metadata": {},
     "output_type": "execute_result"
    }
   ],
   "source": [
    "# Show Outbound Data\n",
    "outbound_df.head()"
   ]
  },
  {
   "cell_type": "code",
   "execution_count": 10,
   "metadata": {},
   "outputs": [
    {
     "name": "stdout",
     "output_type": "stream",
     "text": [
      "Inbound (6450, 4)\n",
      "Inventory (27604, 9)\n",
      "Material Master (431, 4)\n",
      "Operation Cost (4, 4)\n",
      "Outbound (22179, 6)\n"
     ]
    }
   ],
   "source": [
    "# Data Information\n",
    "print(\"Inbound \" + str(inbound_df.shape))\n",
    "print(\"Inventory \" + str(inventory_df.shape))\n",
    "print(\"Material Master \" + str(material_master_df.shape))\n",
    "print(\"Operation Cost \" + str(operation_cost_df.shape))\n",
    "print(\"Outbound \" + str(outbound_df.shape))"
   ]
  },
  {
   "cell_type": "markdown",
   "metadata": {},
   "source": [
    "## Step 2: Filter by month"
   ]
  },
  {
   "cell_type": "code",
   "execution_count": 11,
   "metadata": {},
   "outputs": [],
   "source": [
    "def filter_by_month(df, month_num, year, country, col_name='NET_QUANTITY_MT', divide_by = 1):\n",
    "    df['DATE'] = pd.to_datetime(df['DATE'], format='%Y/%m/%d', errors='coerce')\n",
    "    month_df = df[df['DATE'].dt.month == month_num]\n",
    "    month_df = month_df[month_df['DATE'].dt.year == year]\n",
    "    month_country_df = month_df[month_df['PLANT_NAME'] == country + '-WAREHOUSE']\n",
    "    total = month_country_df[col_name].sum()\n",
    "    print(\"Month\"+str(month_num)+\": \"+str(total/1000/divide_by)+\" KT\")\n"
   ]
  },
  {
   "cell_type": "code",
   "execution_count": 12,
   "metadata": {},
   "outputs": [
    {
     "name": "stdout",
     "output_type": "stream",
     "text": [
      "Country: SINGAPORE\n",
      "Month1: 5.843205 KT\n",
      "Month2: 6.086335 KT\n",
      "Month3: 7.366974999999999 KT\n",
      "Month4: 6.01483 KT\n",
      "Month5: 7.74557 KT\n",
      "Month6: 8.17128 KT\n",
      "Month7: 8.83185 KT\n",
      "Month8: 8.683639999999999 KT\n",
      "Month9: 9.075445 KT\n",
      "Month10: 10.8262 KT\n",
      "Month11: 8.998194999999999 KT\n",
      "Month12: 7.209995 KT\n"
     ]
    }
   ],
   "source": [
    "country = \"SINGAPORE\"\n",
    "print(\"Country: \" + country)\n",
    "for i in range(12):\n",
    "    filter_by_month(outbound_df,i+1, 2024, country)"
   ]
  },
  {
   "cell_type": "code",
   "execution_count": 13,
   "metadata": {},
   "outputs": [
    {
     "name": "stdout",
     "output_type": "stream",
     "text": [
      "Country: SINGAPORE\n",
      "Month1: 2.71725 KT\n",
      "Month2: 2.6050539999999995 KT\n",
      "Month3: 5.828663000000001 KT\n",
      "Month4: 4.320924999999999 KT\n",
      "Month5: 4.007875 KT\n",
      "Month6: 1.997875 KT\n",
      "Month7: 2.58175 KT\n",
      "Month8: 3.771375 KT\n",
      "Month9: 2.926125 KT\n",
      "Month10: 3.33 KT\n",
      "Month11: 1.317375 KT\n",
      "Month12: 0.1935 KT\n"
     ]
    }
   ],
   "source": [
    "country = \"SINGAPORE\"\n",
    "print(\"Country: \" + country)\n",
    "for i in range(12):\n",
    "    filter_by_month(inbound_df, i+1, 2024, country)"
   ]
  },
  {
   "cell_type": "code",
   "execution_count": 67,
   "metadata": {},
   "outputs": [
    {
     "name": "stdout",
     "output_type": "stream",
     "text": [
      "Country: CHINA\n",
      "Month1: 39.023693 KT\n",
      "Month2: 46.217648000000004 KT\n",
      "Month3: 48.478708 KT\n",
      "Month4: 48.415015 KT\n",
      "Month5: 52.826485999999996 KT\n",
      "Month6: 72.52439100000001 KT\n",
      "Month7: 76.136124 KT\n",
      "Month8: 68.138683 KT\n",
      "Month9: 66.701368 KT\n",
      "Month10: 62.785368999999996 KT\n",
      "Month11: 54.764596 KT\n",
      "Month12: 72.62642 KT\n"
     ]
    }
   ],
   "source": [
    "country = \"CHINA\"\n",
    "print(\"Country: \" + country)\n",
    "for i in range(12):\n",
    "    filter_by_month(inventory_df, i+1, 2024, country, \"UNRESRICTED_STOCK\", divide_by=1000)"
   ]
  },
  {
   "cell_type": "code",
   "execution_count": 68,
   "metadata": {},
   "outputs": [],
   "source": [
    "def inventory_filter_by_month(month_num, year, country):\n",
    "    inbound_df['INBOUND_DATE'] = pd.to_datetime(inbound_df['INBOUND_DATE'], format='%Y/%m/%d', errors='coerce')\n",
    "    month_df = inbound_df[inbound_df['INBOUND_DATE'].dt.month == month_num]\n",
    "    month_df = month_df[month_df['INBOUND_DATE'].dt.year == year]\n",
    "    month_country_df = month_df[month_df['PLANT_NAME'] == country + '-WAREHOUSE']\n",
    "    total = month_country_df['NET_QUANTITY_MT'].sum()\n",
    "    print(\"Month\"+str(month_num)+\": \"+str(total/1000))\n"
   ]
  },
  {
   "cell_type": "markdown",
   "metadata": {},
   "source": [
    "## Step 3: Find out if sales downgrade is calculated already or not"
   ]
  },
  {
   "cell_type": "code",
   "execution_count": 14,
   "metadata": {},
   "outputs": [
    {
     "data": {
      "text/html": [
       "<div>\n",
       "<style scoped>\n",
       "    .dataframe tbody tr th:only-of-type {\n",
       "        vertical-align: middle;\n",
       "    }\n",
       "\n",
       "    .dataframe tbody tr th {\n",
       "        vertical-align: top;\n",
       "    }\n",
       "\n",
       "    .dataframe thead th {\n",
       "        text-align: right;\n",
       "    }\n",
       "</style>\n",
       "<table border=\"1\" class=\"dataframe\">\n",
       "  <thead>\n",
       "    <tr style=\"text-align: right;\">\n",
       "      <th></th>\n",
       "      <th>BALANCE_AS_OF_DATE</th>\n",
       "      <th>PLANT_NAME</th>\n",
       "      <th>MATERIAL_NAME</th>\n",
       "      <th>BATCH_NUMBER</th>\n",
       "      <th>UNRESRICTED_STOCK</th>\n",
       "      <th>STOCK_UNIT</th>\n",
       "      <th>STOCK_SELL_VALUE</th>\n",
       "      <th>CURRENCY</th>\n",
       "      <th>DATE</th>\n",
       "      <th>POLYMER_TYPE</th>\n",
       "      <th>SHELF_LIFE_IN_MONTH</th>\n",
       "      <th>DOWNGRADE_VALUE_LOST_PERCENT</th>\n",
       "      <th>BATCH_COUNT</th>\n",
       "      <th>VALUE_PER_KG</th>\n",
       "    </tr>\n",
       "  </thead>\n",
       "  <tbody>\n",
       "    <tr>\n",
       "      <th>11093</th>\n",
       "      <td>9/30/2024</td>\n",
       "      <td>CHINA-WAREHOUSE</td>\n",
       "      <td>MAT-0295</td>\n",
       "      <td>5212A</td>\n",
       "      <td>2750</td>\n",
       "      <td>KG</td>\n",
       "      <td>5748</td>\n",
       "      <td>CNY</td>\n",
       "      <td>2024-09-30</td>\n",
       "      <td>P-001</td>\n",
       "      <td>6</td>\n",
       "      <td>25</td>\n",
       "      <td>27</td>\n",
       "      <td>2.090182</td>\n",
       "    </tr>\n",
       "    <tr>\n",
       "      <th>23951</th>\n",
       "      <td>9/30/2024</td>\n",
       "      <td>SINGAPORE-WAREHOUSE</td>\n",
       "      <td>MAT-0295</td>\n",
       "      <td>5212A</td>\n",
       "      <td>86625</td>\n",
       "      <td>KG</td>\n",
       "      <td>53708</td>\n",
       "      <td>SGD</td>\n",
       "      <td>2024-09-30</td>\n",
       "      <td>P-001</td>\n",
       "      <td>6</td>\n",
       "      <td>25</td>\n",
       "      <td>27</td>\n",
       "      <td>0.620006</td>\n",
       "    </tr>\n",
       "    <tr>\n",
       "      <th>9732</th>\n",
       "      <td>8/31/2024</td>\n",
       "      <td>CHINA-WAREHOUSE</td>\n",
       "      <td>MAT-0295</td>\n",
       "      <td>5212A</td>\n",
       "      <td>2750</td>\n",
       "      <td>KG</td>\n",
       "      <td>5748</td>\n",
       "      <td>CNY</td>\n",
       "      <td>2024-08-31</td>\n",
       "      <td>P-001</td>\n",
       "      <td>6</td>\n",
       "      <td>25</td>\n",
       "      <td>27</td>\n",
       "      <td>2.090182</td>\n",
       "    </tr>\n",
       "    <tr>\n",
       "      <th>22903</th>\n",
       "      <td>8/31/2024</td>\n",
       "      <td>SINGAPORE-WAREHOUSE</td>\n",
       "      <td>MAT-0295</td>\n",
       "      <td>5212A</td>\n",
       "      <td>86625</td>\n",
       "      <td>KG</td>\n",
       "      <td>52841</td>\n",
       "      <td>SGD</td>\n",
       "      <td>2024-08-31</td>\n",
       "      <td>P-001</td>\n",
       "      <td>6</td>\n",
       "      <td>25</td>\n",
       "      <td>27</td>\n",
       "      <td>0.609997</td>\n",
       "    </tr>\n",
       "    <tr>\n",
       "      <th>21887</th>\n",
       "      <td>7/31/2024</td>\n",
       "      <td>SINGAPORE-WAREHOUSE</td>\n",
       "      <td>MAT-0295</td>\n",
       "      <td>5212A</td>\n",
       "      <td>86625</td>\n",
       "      <td>KG</td>\n",
       "      <td>53708</td>\n",
       "      <td>SGD</td>\n",
       "      <td>2024-07-31</td>\n",
       "      <td>P-001</td>\n",
       "      <td>6</td>\n",
       "      <td>25</td>\n",
       "      <td>27</td>\n",
       "      <td>0.620006</td>\n",
       "    </tr>\n",
       "  </tbody>\n",
       "</table>\n",
       "</div>"
      ],
      "text/plain": [
       "      BALANCE_AS_OF_DATE           PLANT_NAME MATERIAL_NAME BATCH_NUMBER  \\\n",
       "11093          9/30/2024      CHINA-WAREHOUSE      MAT-0295        5212A   \n",
       "23951          9/30/2024  SINGAPORE-WAREHOUSE      MAT-0295        5212A   \n",
       "9732           8/31/2024      CHINA-WAREHOUSE      MAT-0295        5212A   \n",
       "22903          8/31/2024  SINGAPORE-WAREHOUSE      MAT-0295        5212A   \n",
       "21887          7/31/2024  SINGAPORE-WAREHOUSE      MAT-0295        5212A   \n",
       "\n",
       "       UNRESRICTED_STOCK STOCK_UNIT  STOCK_SELL_VALUE CURRENCY       DATE  \\\n",
       "11093               2750         KG              5748      CNY 2024-09-30   \n",
       "23951              86625         KG             53708      SGD 2024-09-30   \n",
       "9732                2750         KG              5748      CNY 2024-08-31   \n",
       "22903              86625         KG             52841      SGD 2024-08-31   \n",
       "21887              86625         KG             53708      SGD 2024-07-31   \n",
       "\n",
       "      POLYMER_TYPE  SHELF_LIFE_IN_MONTH  DOWNGRADE_VALUE_LOST_PERCENT  \\\n",
       "11093        P-001                    6                            25   \n",
       "23951        P-001                    6                            25   \n",
       "9732         P-001                    6                            25   \n",
       "22903        P-001                    6                            25   \n",
       "21887        P-001                    6                            25   \n",
       "\n",
       "       BATCH_COUNT  VALUE_PER_KG  \n",
       "11093           27      2.090182  \n",
       "23951           27      0.620006  \n",
       "9732            27      2.090182  \n",
       "22903           27      0.609997  \n",
       "21887           27      0.620006  "
      ]
     },
     "execution_count": 14,
     "metadata": {},
     "output_type": "execute_result"
    }
   ],
   "source": [
    "# Merge datasets\n",
    "batch_merged_df = pd.merge(inventory_df, material_master_df, on='MATERIAL_NAME')\n",
    "# Filter out 'SCRAP' batches\n",
    "batch_merged_df = batch_merged_df[~batch_merged_df['BATCH_NUMBER'].str.contains('SCRAP', na=False)]\n",
    "# Filter for batch numbers that are in inventory for more than shelf life\n",
    "batch_counts = batch_merged_df['BATCH_NUMBER'].value_counts().rename('BATCH_COUNT')\n",
    "batch_merged_df = batch_merged_df.merge(batch_counts, left_on='BATCH_NUMBER', right_index=True)\n",
    "batch_filtered_df = batch_merged_df[batch_merged_df['BATCH_COUNT'] > batch_merged_df['SHELF_LIFE_IN_MONTH']]\n",
    "batch_filtered_df = batch_filtered_df.sort_values(by='BATCH_COUNT', ascending=False)\n",
    "# Divide sales value by quantity to get per MT\n",
    "batch_filtered_df['VALUE_PER_KG'] = batch_filtered_df['STOCK_SELL_VALUE'] / (batch_filtered_df['UNRESRICTED_STOCK'])\n",
    "batch_filtered_df = batch_filtered_df.sort_values(by='BALANCE_AS_OF_DATE', ascending=False)\n",
    "# Check the sales value for those items if they go down by the percentage\n",
    "batch_filtered_df[batch_filtered_df['BATCH_NUMBER'] == '5212A'].head()"
   ]
  },
  {
   "cell_type": "code",
   "execution_count": 33,
   "metadata": {},
   "outputs": [
    {
     "data": {
      "text/plain": [
       "array(['SCRAP', 'SCRAP-4170', 'SCRAP-6113', 'SCRAP-6946', 'SCRAP-4561',\n",
       "       'SCRAP-1660', 'SCRAP-2908', 'SCRAP-5415', 'SCRAP-5786',\n",
       "       'SCRAP-4917', 'SCRAP-1047', 'SCRAP-7654', 'SCRAP-9327',\n",
       "       'SCRAP-2264', 'SCRAP-6862', 'SCRAP-3867', 'SCRAP-9281',\n",
       "       'SCRAP-6847', 'SCRAP-3929', 'SCRAP-9732', 'SCRAP-1201',\n",
       "       'SCRAP-3594', 'SCRAP-7283', 'SCRAP-9510', 'SCRAP-9801',\n",
       "       'SCRAP-4253'], dtype=object)"
      ]
     },
     "execution_count": 33,
     "metadata": {},
     "output_type": "execute_result"
    }
   ],
   "source": [
    "# Scrap batches\n",
    "scrap_df = inventory_df[inventory_df['BATCH_NUMBER'].str.contains('SCRAP', na=False)]\n",
    "scrap_df['BATCH_NUMBER'].unique()"
   ]
  },
  {
   "cell_type": "markdown",
   "metadata": {},
   "source": [
    "## Step 4: Plot Graph"
   ]
  },
  {
   "cell_type": "code",
   "execution_count": 24,
   "metadata": {},
   "outputs": [],
   "source": [
    "# Skibidi"
   ]
  },
  {
   "cell_type": "code",
   "execution_count": null,
   "metadata": {},
   "outputs": [
    {
     "data": {
      "image/png": "[encoded data removed]",
      "text/plain": [
       "<Figure size 800x500 with 1 Axes>"
      ]
     },
     "metadata": {},
     "output_type": "display_data"
    }
   ],
   "source": [
    "# === Plot 3: Sales by Month ===\n",
    "orders_agg_df['total_orders'].plot(kind='bar', color='orange', figsize=(8, 5))\n",
    "plt.title(\"Orders Count by Month\")\n",
    "plt.xlabel(\"Month\")\n",
    "plt.ylabel(\"Total Orders\")\n",
    "plt.grid(axis='y')\n",
    "plt.tight_layout()\n",
    "plt.savefig('image\\\\Orders_Count_by_Month.png')\n",
    "plt.show()"
   ]
  },
  {
   "cell_type": "markdown",
   "metadata": {},
   "source": [
    "## Exercise\n",
    "##### Find the Top 10 Best Selling Products based on the existing data and plot the Bar Chart."
   ]
  },
  {
   "cell_type": "code",
   "execution_count": null,
   "metadata": {},
   "outputs": [],
   "source": []
  }
 ],
 "metadata": {
  "kernelspec": {
   "display_name": "Python 3",
   "language": "python",
   "name": "python3"
  },
  "language_info": {
   "codemirror_mode": {
    "name": "ipython",
    "version": 3
   },
   "file_extension": ".py",
   "mimetype": "text/x-python",
   "name": "python",
   "nbconvert_exporter": "python",
   "pygments_lexer": "ipython3",
   "version": "3.11.9"
  }
 },
 "nbformat": 4,
 "nbformat_minor": 2
}
